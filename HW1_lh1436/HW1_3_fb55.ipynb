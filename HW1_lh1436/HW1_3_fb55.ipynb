{
 "cells": [
  {
   "cell_type": "code",
   "execution_count": 1,
   "metadata": {
    "collapsed": true
   },
   "outputs": [],
   "source": [
    "from __future__ import print_function\n",
    "__author__ = \"Federica B. Bianco, CUSP NYU 2016\""
   ]
  },
  {
   "cell_type": "markdown",
   "metadata": {},
   "source": [
    "# Create a <i>reproducible research</i> chunk of code\n",
    "\n",
    "That means we want the reader to be able to reproduce every step of the work we do. \n",
    "\n",
    "If our work includes the use of stochastic processes and random variables that gets tricky: how do we assure the random draw gives the same number to the user that it gave to me? That is not random! \n",
    "\n",
    "That becomes possible because computers are unable to poduce truly random numbers. When we ask a computer to generate a random number, it will in fact generate a \"pseudo random\" number. The number will be randon in the sanse that it will be some number between, for example, 0 and 1 if we ask for a **uniform random distribution** or a number near 0 if we aks for a **Gaussian distribution with mean 0**. <i> But the sequence of pseudo-random numbers that a compujter generates will depend on its **seed**: if you know the seed you know all the numbers that are \"randomely\" drawn</i>.  \n",
    "\n",
    "You can read more about pseudorandom number generation in this wikipedia article https://en.wikipedia.org/wiki/Pseudorandom_number_generator\n",
    "\n",
    "Fill in the empty cells below with code, as directed."
   ]
  },
  {
   "cell_type": "code",
   "execution_count": 51,
   "metadata": {
    "collapsed": true
   },
   "outputs": [],
   "source": [
    "import os\n",
    "import sys\n",
    "\n",
    "# you can use the numpy library for random number generation: \n",
    "# http://docs.scipy.org/doc/numpy/reference/routines.random.html\n",
    "\n",
    "import numpy as np"
   ]
  },
  {
   "cell_type": "markdown",
   "metadata": {},
   "source": [
    "## THIS IS THE MOST IMPORTANT PIECE OF THIS CODE! \n",
    "### give numpy as seed for this code to be reproducible \n",
    "(no points if this is wrong)\n",
    "\n",
    "http://docs.scipy.org/doc/numpy/reference/generated/numpy.random.seed.html"
   ]
  },
  {
   "cell_type": "code",
   "execution_count": 52,
   "metadata": {
    "collapsed": true
   },
   "outputs": [],
   "source": [
    "np.random.seed(0)"
   ]
  },
  {
   "cell_type": "markdown",
   "metadata": {},
   "source": [
    "### 1. Generate random distributions. use the function \n",
    "http://docs.scipy.org/doc/numpy/reference/generated/numpy.random.randn.html\n",
    "### to generate 100 2-dimensional random datapoints in a gaussian distribution \n",
    "\n",
    "call the array ReprRand\n"
   ]
  },
  {
   "cell_type": "code",
   "execution_count": 53,
   "metadata": {
    "collapsed": true
   },
   "outputs": [],
   "source": [
    "ReprRand=np.random.randn(2,100)"
   ]
  },
  {
   "cell_type": "markdown",
   "metadata": {},
   "source": [
    "#### if you did this correctly the shape of ReprRand will be (2, 100)\n"
   ]
  },
  {
   "cell_type": "code",
   "execution_count": 54,
   "metadata": {
    "collapsed": false
   },
   "outputs": [
    {
     "data": {
      "text/plain": [
       "(2, 100)"
      ]
     },
     "execution_count": 54,
     "metadata": {},
     "output_type": "execute_result"
    }
   ],
   "source": [
    "# run this cell\n",
    "ReprRand.shape"
   ]
  },
  {
   "cell_type": "markdown",
   "metadata": {},
   "source": [
    "## 2. use the same function to generate 50 more random 2x100 numpy arrays and store them in ReprRandAll, all with different mean.\n",
    "\n",
    "np.random.randn creates a distribution with mean 0 and standard deviation 1 by default.\n",
    "\n",
    "To obtain a gaussian distribution with a mean different than 1 using np.random.randn you must add your new mean (it is explained in the dunction documentation for which I already gave you the link)\n",
    "\n",
    "If you want to change the standard deviation (sigma) as well you multiply the distribution by the new sigma.\n",
    "\n",
    "You can do it in a for loop. The first line of code I included generates an array of zeros that you can fill in with your new numbers. \n",
    "\n",
    "\n"
   ]
  },
  {
   "cell_type": "code",
   "execution_count": 55,
   "metadata": {
    "collapsed": false
   },
   "outputs": [
    {
     "data": {
      "text/plain": [
       "array([[[ 32.40484095,  30.73036882,  30.60207195, ...,  31.70348128,\n",
       "          30.69399024,  30.32215141],\n",
       "        [ 30.98168919,  32.39101431,  30.46782723, ...,  30.58355064,\n",
       "          31.72442066,  30.1458909 ]],\n",
       "\n",
       "       [[ 31.82677275,  32.20430053,  30.68109224, ...,  30.22721433,\n",
       "          30.56939875,  31.02575391],\n",
       "        [ 31.55823668,  32.21740195,  31.54706542, ...,  30.14633731,\n",
       "          31.17655226,  30.289585  ]],\n",
       "\n",
       "       [[ 31.1426469 ,  32.44990582,  31.05926588, ...,  32.19349697,\n",
       "          30.92979687,  30.00345837],\n",
       "        [ 30.61921256,  30.79558377,  32.14694367, ...,  31.7761394 ,\n",
       "          30.44251445,  31.20879532]],\n",
       "\n",
       "       ..., \n",
       "       [[ 30.42199718,  31.2425428 ,  31.0573903 , ...,  32.0300626 ,\n",
       "          31.34652228,  30.22612636],\n",
       "        [ 30.3270826 ,  32.03870478,  30.92343473, ...,  30.62281039,\n",
       "          30.01549428,  32.29951689]],\n",
       "\n",
       "       [[ 31.74275872,  31.9545795 ,  30.18528387, ...,  30.37611558,\n",
       "          30.02523794,  30.69627653],\n",
       "        [ 32.4353264 ,  30.07922716,  32.27862882, ...,  32.01350215,\n",
       "          30.72094583,  30.79522255]],\n",
       "\n",
       "       [[ 30.92461056,  31.51411798,  31.68515629, ...,  31.11554149,\n",
       "          30.61124443,  30.63091475],\n",
       "        [ 31.04044972,  32.00610734,  31.4037042 , ...,  30.09498164,\n",
       "          30.42159581,  31.92677757]]])"
      ]
     },
     "execution_count": 55,
     "metadata": {},
     "output_type": "execute_result"
    }
   ],
   "source": [
    "ReprRandAll = np.zeros((50, 2, 100))\n",
    "for i in range(50):\n",
    "    ReprRandAll[i] = 2.5 * np.random.rand(2,100) + 30\n",
    "\n",
    "ReprRandAll"
   ]
  },
  {
   "cell_type": "code",
   "execution_count": 56,
   "metadata": {
    "collapsed": false
   },
   "outputs": [
    {
     "data": {
      "text/plain": [
       "(50, 2, 100)"
      ]
     },
     "execution_count": 56,
     "metadata": {},
     "output_type": "execute_result"
    }
   ],
   "source": [
    "# run this cell\n",
    "ReprRandAll.shape"
   ]
  },
  {
   "cell_type": "markdown",
   "metadata": {},
   "source": [
    "## 3. now plot them: \n",
    "\n",
    "you can use the matplotlib library, and the function scatter(), but that would plot everything in the same color unless you ask it not to. For convenience, let's use the function plot() which by default plots lines, and tell it to plot points (in addition plot is actually more efficient, so if you have a large dataset you may want to consider using plot with points for it anyways)\n",
    "\n",
    "https://scipy-lectures.github.io/intro/matplotlib/matplotlib.html#scatter-plots\n",
    "\n",
    "http://matplotlib.org/users/pyplot_tutorial.html\n"
   ]
  },
  {
   "cell_type": "code",
   "execution_count": 57,
   "metadata": {
    "collapsed": false
   },
   "outputs": [
    {
     "name": "stdout",
     "output_type": "stream",
     "text": [
      "Populating the interactive namespace from numpy and matplotlib\n"
     ]
    },
    {
     "data": {
      "image/png": "[encoded data removed]",
      "text/plain": [
       "<matplotlib.figure.Figure at 0x7f3b2a277bd0>"
      ]
     },
     "metadata": {},
     "output_type": "display_data"
    }
   ],
   "source": [
    "import pylab as pl\n",
    "%pylab inline\n",
    "plt.plot(ReprRandAll[i], 'o')\n",
    "plt.axis([-0.5,1.5,28,34])\n",
    "plt.xlabel('Dimension', fontsize = 12, fontweight = 'bold')\n",
    "plt.ylabel('Random Number', fontsize = 12, fontweight = 'bold')\n",
    "plt.title('Figure 1', fontsize = 16, fontweight = 'bold')\n",
    "plt.show()"
   ]
  },
  {
   "cell_type": "markdown",
   "metadata": {},
   "source": [
    "Always add a caption to each of your homework figures. \n",
    "And remember to give your labels some names! \n",
    "This is a general rule. Without the caption or axis labels this portion of the HW will not get points. Make sure the font in the labels is large enough to be readable.  \n",
    "\n",
    "## Figure 1: \n",
    "\n",
    "[Note: Plot of 50 random 2x100 numpy arrays in guassian distribution]"
   ]
  },
  {
   "cell_type": "markdown",
   "metadata": {},
   "source": [
    "## Challenge\n",
    "\n",
    "It is easier to give the same mean and standard deviation to each dimension. Can you give two different values for the mean along the x- and the mean along the y- axis for each of the 50 distributions if you have not done so? If you are an experienced coder, can you do it in a single line?\n",
    "\n",
    "\n"
   ]
  },
  {
   "cell_type": "code",
   "execution_count": 58,
   "metadata": {
    "collapsed": false
   },
   "outputs": [
    {
     "data": {
      "text/plain": [
       "array([[[ 1.38767833,  1.43008078,  1.75792355, ...,  1.52685432,\n",
       "          2.06356335,  1.72588214],\n",
       "        [ 1.30690402,  1.54212865,  1.75460196, ...,  1.75083942,\n",
       "          1.9752298 ,  1.75650556]],\n",
       "\n",
       "       [[-0.77832683, -1.14823861, -0.45189183, ..., -1.15743305,\n",
       "         -0.2527342 , -0.84409889],\n",
       "        [-0.62340789, -0.8264581 , -1.23753442, ..., -0.3766088 ,\n",
       "         -0.91882956,  0.11172325]],\n",
       "\n",
       "       [[ 1.33866503, -0.30871418,  2.29426703, ..., -0.10826911,\n",
       "         -0.823432  ,  0.57829932],\n",
       "        [-3.09841394, -2.48581324,  0.38071348, ..., -3.39192381,\n",
       "         -1.58498869,  0.95732098]],\n",
       "\n",
       "       ..., \n",
       "       [[ 1.73845437,  1.90882679,  1.88802763, ...,  1.90438729,\n",
       "          1.79412398,  1.62080999],\n",
       "        [ 1.97979475,  1.92552122,  1.67015949, ...,  1.63409346,\n",
       "          1.74852817,  1.9009582 ]],\n",
       "\n",
       "       [[-2.87219469,  0.50318921, -3.14034161, ..., -2.9283928 ,\n",
       "         -0.36298556,  1.1115144 ],\n",
       "        [-1.27759719, -0.91715927, -1.70860412, ..., -0.28552682,\n",
       "         -0.6979182 ,  0.8705309 ]],\n",
       "\n",
       "       [[-0.48589436, -0.3941951 , -0.37887259, ..., -0.45861656,\n",
       "         -0.48886269, -0.34224167],\n",
       "        [-0.42020963, -0.40196011, -0.46611297, ..., -0.46033739,\n",
       "         -0.44952774, -0.40613392]]])"
      ]
     },
     "execution_count": 58,
     "metadata": {},
     "output_type": "execute_result"
    }
   ],
   "source": [
    "ReprRandMean = np.zeros((50, 2, 100))\n",
    "for i in range(50):\n",
    "    ReprRandMean[i] = np.random.randn() * np.random.randn(2,100) + np.random.randn()\n",
    "ReprRandMean"
   ]
  },
  {
   "cell_type": "code",
   "execution_count": 59,
   "metadata": {
    "collapsed": false
   },
   "outputs": [
    {
     "name": "stdout",
     "output_type": "stream",
     "text": [
      "Populating the interactive namespace from numpy and matplotlib\n"
     ]
    },
    {
     "data": {
      "image/png": "[encoded data removed]",
      "text/plain": [
       "<matplotlib.figure.Figure at 0x7f3b24d759d0>"
      ]
     },
     "metadata": {},
     "output_type": "display_data"
    }
   ],
   "source": [
    "import pylab as pl\n",
    "%pylab inline\n",
    "plt.plot(ReprRandMean[i], 'o')\n",
    "plt.axis([-0.5,1.5,-10,10])\n",
    "plt.xlabel('Dimension',fontsize = 12, fontweight = 'bold')\n",
    "plt.ylabel('Random Number', fontsize = 12, fontweight = 'bold')\n",
    "plt.title('Figure 2', fontsize = 16, fontweight = 'bold')\n",
    "plt.show()"
   ]
  },
  {
   "cell_type": "code",
   "execution_count": null,
   "metadata": {
    "collapsed": true
   },
   "outputs": [],
   "source": []
  }
 ],
 "metadata": {
  "anaconda-cloud": {},
  "kernelspec": {
   "display_name": "Python 2",
   "language": "python",
   "name": "python2"
  },
  "language_info": {
   "codemirror_mode": {
    "name": "ipython",
    "version": 2
   },
   "file_extension": ".py",
   "mimetype": "text/x-python",
   "name": "python",
   "nbconvert_exporter": "python",
   "pygments_lexer": "ipython2",
   "version": "2.7.11"
  }
 },
 "nbformat": 4,
 "nbformat_minor": 0
}
